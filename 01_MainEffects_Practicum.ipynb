{
  "cells": [
    {
      "metadata": {
        "collapsed": true
      },
      "cell_type": "markdown",
      "source": "# Practicum: Using Data from a SMART to Address Main Effects Comparisons\n\n</br>\n    This material has been developed for [Getting SMART About Adaptive Interventions in Education](https://d3lab.isr.umich.edu/training/) led by [d3lab](https://d3lab.isr.umich.edu). \n    \nNotebooks were developed by [Nicholas J. Seewald](https://nickseewald.com). \nSAS code originally written by Daniel Almirall, Inbal Nahum-Shani, and Susan A. Murphy.\nThe code was translated into R by Audrey Boruvka and Nicholas J. Seewald.\n\n\n### Exercise Tasks\n- [Task 1: Properly center covariates](#task-1)\n- [Task 2: Estimate mean outcomes under each first-stage intervention option, as well as their mean difference](#task-2)\n- [Task 3: Fit a regression model to estimate the main effect of second-stage treatment among slow-responders to JASP + EMT](#task-3)\n- [Task 4: Compute sample size for a comparison of first-stage main effects](#task-4)\n\n<hr>"
    },
    {
      "metadata": {},
      "cell_type": "markdown",
      "source": "## Function Definitions\nThe file `functions.R` contains code that will help us produce cleaner output from some of the models we'll fit in this module. Advanced R users are encouraged to look at this file to see how these functions work; otherwise, just know that this code will help us mimic SAS's estimate statements which are used in the training slides. <a href=\"ADHD_Data_Description_Handout.pdf\"> THIS LINK DOES NOT WORK </a>"
    },
    {
      "metadata": {
        "trusted": true
      },
      "cell_type": "code",
      "source": "library(geepack)\nsource('functions.R')",
      "execution_count": null,
      "outputs": []
    },
    {
      "metadata": {
        "trusted": true
      },
      "cell_type": "markdown",
      "source": "## Part 1: Getting comfortable with the data\nIn the series of practicum exercises, we'll be using *simulated* data in the context of the so-called autism SMART:\n<img src=\"assets/autism-smart-diagram.jpg\" alt=\"Autism SMART diagram\" style=\"width: 500px;\"/>\n\n**First-Stage Coding**:\n- JASP+EMT: A1 = 1\n- JASP+EMT+SGD: A1 = -1\n\n**Second-Stage Coding**:\n- ADD SGD: A2 = 1 \n- INTENSIFY: A2 = -1"
    },
    {
      "metadata": {
        "trusted": true
      },
      "cell_type": "code",
      "source": "# Load data file into R\naut <- read.csv(\"assets/autism-simulated-dataset.csv\")\n\n# R is case-sensitive! Avoid issues by changing variable names to all lowercase\nnames(aut) <- tolower(names(aut))\n\nhead(aut)",
      "execution_count": null,
      "outputs": []
    },
    {
      "metadata": {},
      "cell_type": "markdown",
      "source": "We need to sort the data by ID number, and create an indicator for whether or not each child was re-randomized."
    },
    {
      "metadata": {
        "trusted": true
      },
      "cell_type": "code",
      "source": "# Sort data by ID\naut <- aut[order(aut$id), ]",
      "execution_count": null,
      "outputs": []
    },
    {
      "metadata": {},
      "cell_type": "markdown",
      "source": "As we did with the ADHD data, it will be useful to look at some summaries of the data. We'll start with the usual 5-number summaries as well as the standard deviations of each of the variables."
    },
    {
      "metadata": {
        "trusted": true
      },
      "cell_type": "code",
      "source": "## Brief summary statistics\nsummary(aut)\napply(aut, 2, sd, na.rm = T)",
      "execution_count": null,
      "outputs": []
    },
    {
      "metadata": {},
      "cell_type": "markdown",
      "source": "We'll also look at some frequency tables for first-stage treatment assignment `a1`, response status `r`, and second-stage treatment assignment `a2` cross-tabulated with `r`. Note that `a2` is not defined (`NA`) for children who were assigned to receive the SGD in the first stage (such that `a1` = -1)."
    },
    {
      "metadata": {
        "trusted": true
      },
      "cell_type": "code",
      "source": "## Frequency table of the initial treatment,\n## early response by week 8, and second stage treatments\ntable(aut$a1)\ntable(aut$r)\nwith(aut, table(a2, r, useNA = \"ifany\")) # cross-tabulate a2 and r",
      "execution_count": null,
      "outputs": []
    },
    {
      "metadata": {},
      "cell_type": "markdown",
      "source": "### <a name=\"task-1\"></a> Task 1: Properly center covariates.\nReplace the blanks with correct code to center the covariate `o21` among the entire sample, as well as just among non-responders. Press `SHIFT` + `ENTER` when done to run the code."
    },
    {
      "metadata": {
        "trusted": true
      },
      "cell_type": "code",
      "source": "aut$o11c <- with(aut, o11 - mean(o11)) # NJS:  explain what variable this is\naut$o12c <- with(aut, o12 - mean(o12)) # TASK: explain what variable this is\naut$o21c <- ___________\naut$o22c <- with(aut, o22 - mean(o22))\n\n## center baseline variables using mean among non-responders\naut$o11cnr <- aut$o12cnr <- NA\naut$o21cnr <- aut$o22cnr <- NA\naut$o11cnr[aut$r == 0] <- with(subset(aut, r == 0), o11 - mean(o11))\naut$o12cnr[aut$r == 0] <- with(subset(aut, r == 0), o12 - mean(o12))\naut$o21cnr[aut$r == 0] <- _______\naut$o22cnr[aut$r == 0] <- with(subset(aut, r == 0), o22 - mean(o22))",
      "execution_count": null,
      "outputs": []
    },
    {
      "metadata": {},
      "cell_type": "markdown",
      "source": "When your code runs successfully, the error message above will disappear. You can check your work by running the following block of code, again by pressing `SHIFT` + `ENTER`. Both results should be `0`."
    },
    {
      "metadata": {
        "trusted": true
      },
      "cell_type": "code",
      "source": "mean(aut$o21c)\nmean(aut$o21cnr)",
      "execution_count": null,
      "outputs": []
    },
    {
      "metadata": {},
      "cell_type": "markdown",
      "source": "## Part 2: Main effect of first-stage options\nWe will now investigate the main effect of the first-stage intervention options, JASP + EMT (`a1 = 1`) and JASP + EMT + SGD (`a1 = -1`). We do this by fitting the regresison equation\n\n$$ E[Y\\mid A_{1}, \\mathbf{O}] = \\beta_0 + \\beta_1 A_{1} + \\beta_2 O_{11c} + \\beta_3 O_{12c}$$\n\nusing, as before, the `geeglm()` function in the `geepack` package. We will call this model `model1`."
    },
    {
      "metadata": {
        "trusted": true
      },
      "cell_type": "code",
      "source": "model1 <- geeglm(y ~ a1 + o11c + o12c, \n                id = id, data = aut)",
      "execution_count": null,
      "outputs": []
    },
    {
      "metadata": {},
      "cell_type": "markdown",
      "source": " Notice that this model is \"marginal over\" (i.e., averages over) future interventions. This suggests that $2\\hat{\\beta}_1$ can be interpreted as *the average difference in number of communicative utterances between children who are treated according to an adaptive intervention that starts with JASP + EMT and children who are treated according to an adaptive intervention which starts with JASP + EMT + AAC.* Notice that we are placing the effect in the context of an adaptive intervention!\n\n### <a name=\"task-2\"></a> Task 2: Estimate mean outcomes under each first-stage intervention option, as well as their mean difference.\n\n*Note that you will not be able to complete this task until you have successfully completed [Task 1](#task-1).*\n\n#### Task 2(a): Identify contrasts of interest\nUsing `model1`, we want to estimate the mean outcome $Y$ under each of the first-stage intervention options. To do this, fill in the blanks to complete the second argument to `estimate()`. Once you have filled in the blanks, press `SHIFT` + `ENTER` to run the code. \n\nAs a reminder, the model we want to fit is\n$$ E[Y\\mid A_{1}, \\mathbf{O}] = \\beta_0 + \\beta_1 A_{1} + \\beta_2 O_{11c} + \\beta_3 O_{12c}$$"
    },
    {
      "metadata": {
        "trusted": true
      },
      "cell_type": "code",
      "source": "estimate(model1,\n         rbind(\"Mean Y under JASP+EMT\"     = c(1, ____, 0, ____),\n               \"Mean Y under JASP+EMT+SGD\" = c(1, -1, ____, 0),\n               \"Between groups diff\"       = c(0, ____, 0, ____)))",
      "execution_count": null,
      "outputs": []
    },
    {
      "metadata": {},
      "cell_type": "markdown",
      "source": "If you have successfully run the code, the estimated standard error of the between-groups difference in means should be **2.0495**.\n\n#### Task 2(b): Describe Results\nDouble-click the following block of text to edit it, delete the existing contents, and describe the results of the hypothesis test $H_0: 2\\hat{\\beta}_2 = 0$ vs $H_1: 2\\hat{\\beta}_2 \\neq 0$. Is there evidence that adding the speech device in the first stage leads to better outcomes in children with autism, on average? As above, press `SHIFT` + `ENTER`when done."
    },
    {
      "metadata": {},
      "cell_type": "markdown",
      "source": "**(Double-click to edit and complete task 2(b))** "
    },
    {
      "metadata": {
        "trusted": true
      },
      "cell_type": "markdown",
      "source": "## Part 3: Main effect of second-stage options / tactics\nNow, we focus on investigating the main effect of the second-stage tactics among non-responders to initial treatment. In particular, we seek to answer the question *\"Is it better, on average, to intensify JASP + EMT, or to augment with AAC, among slow-responding children to JASP + EMT, adjusting for covariates?\"* **NJS: tighten this** We will address this question by fitting the following regression model:\n\n$$ E[Y \\mid A_2, \\mathbf{O_{1}}, \\mathbf{O_{2}}, S = 1] = \\beta_0 + \\beta_1 A_{2} + \\beta_2 O_{11c} + \\beta_3 O_{12c} + \\beta_4 O_{21c} + \\beta_5 O_{22c}.$$\n\nIn order to fit this regression, we need an indicator $S$ for whether or not a child was re-randomized (1 = re-randomized, 0 = otherwise). This is essentially an indicator for whether the child was a slow-responder to JASP + EMT. We need this so we can tell `geeglm()` we only want to perform the regression on this subset of observations."
    },
    {
      "metadata": {
        "trusted": true
      },
      "cell_type": "code",
      "source": "aut$s <- ifelse(aut$a1 == 1 & aut$r == 0, 1, 0)",
      "execution_count": null,
      "outputs": []
    },
    {
      "metadata": {},
      "cell_type": "markdown",
      "source": "### <a name=\"task-3\"></a> Task 3: Fit a regression model to estimate the main effect of second-stage treatment among slow-responders to JASP + EMT\n\n*Note that you will not be able to complete this task until you have successfully completed [Task 1](#task-1).*\n\n#### Task 3(a): Fit a regression model\nYour task is to translate the above regression model into R code. Fill in the blanks in the code below, then press `SHIFT` + `ENTER` to run the code when you're done. The `coefs()` function will return the coefficient estimates (but not standard errors -- we need our `estimate()` function to do that) from your model."
    },
    {
      "metadata": {
        "trusted": true
      },
      "cell_type": "code",
      "source": "model2 <- geeglm(y ~ _____________________________________________, \n                id = id, data = aut,\n                subset = s == ______)\ncoefs(model2)",
      "execution_count": null,
      "outputs": []
    },
    {
      "metadata": {},
      "cell_type": "markdown",
      "source": "If you've fit the correct model, the coefficient associated with $A_2$ will be **-4.2471**.\n\n#### Task 3(b): Interpret a regression coefficient\nDouble-click the cell below to edit the text. Describe the interpretation of $\\hat{\\beta}_1$. "
    },
    {
      "metadata": {},
      "cell_type": "markdown",
      "source": "**(Double-click to edit and complete task 3(b))**"
    },
    {
      "metadata": {},
      "cell_type": "markdown",
      "source": "## <a name=\"part-d\"></a>Part 4: Sample Size for Primary Aims involving Main Effect Comparisons"
    },
    {
      "metadata": {},
      "cell_type": "markdown",
      "source": "Recall the formula for the sample size for a SMART in which the primary aim is to compare the main effects of first-stage interventions, using an asymptotic z-test:\n$$ n \\geq \\frac{4 (z_{1-\\alpha/2} + z_{1-\\beta})^2}{\\delta^2}. $$\nWe saw in the [Main Effects Demo](01_MainEffects_Demo.ipynb#part-d) how to use `power.t.test` to find sample sizes for these comparisons.\n\n### <a name=\"task-4\"></a> Task 4: Compute sample size for a comparison of first-stage main effects\nUse `power.t.test` to compute the sample size for a trial similar to the Autism SMART in which the primary aim is a comparison of the main effects of first-stage interventions. Power the study to detect an effect size of $\\delta = 0.4$ at 80% power, using a two-sided significance level of 5%. "
    },
    {
      "metadata": {
        "trusted": true
      },
      "cell_type": "code",
      "source": "power.t.test(_______)",
      "execution_count": null,
      "outputs": []
    },
    {
      "metadata": {},
      "cell_type": "markdown",
      "source": "The total required sample size of the trial is 200."
    }
  ],
  "metadata": {
    "kernelspec": {
      "name": "r",
      "display_name": "R",
      "language": "R"
    },
    "language_info": {
      "mimetype": "text/x-r-source",
      "name": "R",
      "pygments_lexer": "r",
      "version": "3.5.3",
      "file_extension": ".r",
      "codemirror_mode": "r"
    },
    "language": "fsharp"
  },
  "nbformat": 4,
  "nbformat_minor": 2
}