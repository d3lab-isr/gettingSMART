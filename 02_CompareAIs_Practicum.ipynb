{
  "cells": [
    {
      "metadata": {},
      "cell_type": "markdown",
      "source": "# Practicum 2: Using Data from a SMART to Address Primary Aims about Embedded Adaptive Interventions\n\n\n</br>\n<font size=3>\n    This material has been developed for [Getting SMART About Adaptive Interventions in Education](https://d3lab.isr.umich.edu/training/) led by [d3lab](https://d3lab.isr.umich.edu). \n    \n    Notebooks were developed by [Nicholas J. Seewald](https://nickseewald.com). \n    SAS code originally written by Daniel Almirall, Inbal Nahum-Shani, and Susan A. Murphy.\n    The code was translated into R by Audrey Boruvka and Nicholas J. Seewald.\n</font>\n\n\n### Practicum Tasks\n- [Task 1: Create an indicator for whether an individual is consistent with (JASP+EMT, INTENSIFY)](#task-1)\n- [Task 2: Create weights](#task-2)\n- [Task 3: Create indicator variables for consistency with the AIs under study](#task-3)\n- [Task 4: Replicate responders to JASP+EMT](#task-4)\n- [Task 5: Perform weighted and replicated regression](#task-5)\n\n<hr>"
    },
    {
      "metadata": {},
      "cell_type": "markdown",
      "source": "In the series of practicum exercises, we'll be using *simulated* data in the context of the so-called autism SMART:\n<img src=\"assets/autism-smart-diagram.jpg\" alt=\"Autism SMART diagram\" style=\"width: 500px;\"/>\n\n**First-Stage Coding**:\n- JASP+EMT: A1 = 1\n- JASP+EMT+SGD: A1 = -1\n\n**Second-Stage Coding**:\n- ADD SGD: A2 = 1 \n- INTENSIFY: A2 = -1\n\n\n## Function Definitions\nThe file `functions.R` contains code that will help us produce cleaner output from some of the models we'll fit in this module. Advanced R users are encouraged to look at this file to see how these functions work; otherwise, just know that this code will help us mimic SAS's estimate statements which are used in the training slides. <a href=\"ADHD_Data_Description_Handout.pdf\"> THIS LINK DOES NOT WORK </a>"
    },
    {
      "metadata": {
        "trusted": true
      },
      "cell_type": "code",
      "source": "library(geepack)\nsource('functions.R')",
      "execution_count": 2,
      "outputs": [
        {
          "output_type": "stream",
          "text": "function 'estimate' loaded successfully.\n",
          "name": "stdout"
        }
      ]
    },
    {
      "metadata": {},
      "cell_type": "markdown",
      "source": "As in the [Main Effects Practicum](01_MainEffects_Practicum.ipynb), we need to do some data management before we can get started. See that notebook for more details; here, just run the cell below to perform all necessary operations."
    },
    {
      "metadata": {
        "trusted": true
      },
      "cell_type": "code",
      "source": "aut <- read.csv(\"assets/autism-simulated-dataset.csv\")\nnames(aut) <- tolower(names(aut))\naut <- aut[order(aut$id), ]\n\naut$o11c <- with(aut, o11 - mean(o11))\naut$o12c <- with(aut, o12 - mean(o12))\naut$o21c <- with(aut, o21 - mean(o21))\naut$o22c <- with(aut, o22 - mean(o22))\naut$o11cnr <- aut$o12cnr <- NA\naut$o21cnr <- aut$o22cnr <- NA\naut$o11cnr[aut$r == 0] <- with(subset(aut, r == 0), o11 - mean(o11))\naut$o12cnr[aut$r == 0] <- with(subset(aut, r == 0), o12 - mean(o12))\naut$o21cnr[aut$r == 0] <- with(subset(aut, r == 0), o21 - mean(o21))\naut$o22cnr[aut$r == 0] <- with(subset(aut, r == 0), o22 - mean(o22))\n\naut$s <- ifelse(aut$a1 == 1 & aut$r == 0, 1, 0)\n\naut <- aut[order(aut$id), ]\nhead(aut)",
      "execution_count": 7,
      "outputs": [
        {
          "output_type": "display_data",
          "data": {
            "text/plain": "  id o11       o12       a1 r o21      o22      a2 y        o11c       \n1 1   7.154994 25.733054  1 0 4.709035 56.01627 -1 40.18308 -26.3466318\n2 2  29.735709 13.126062  1 0 4.261658 22.10117  1 49.41872  -3.7659167\n3 3  34.225682 40.074278  1 0 4.636997 62.93428  1 60.80869   0.7240556\n4 4  30.713199  7.393897  1 0 4.406610 48.14041 -1 56.58124  -2.7884268\n5 5  17.030857 27.997028 -1 1 7.794111 36.41306 NA 63.59968 -16.4707692\n6 6   7.725391  8.308667 -1 1 7.711633 68.09537 NA 71.46104 -25.7762347\n  o12c      o21c       o22c        o12cnr     o11cnr      o22cnr      \n1  8.719485 -0.8759501   7.6479446   7.714571 -27.7192669   7.84296836\n2 -3.887507 -1.3233268 -26.2671614  -4.892421  -5.1385519 -26.07213770\n3 23.060708 -0.9479882  14.5659540  22.055794  -0.6485796  14.76097768\n4 -9.619673 -1.1783753  -0.2279138 -10.624586  -4.1610619  -0.03289008\n5 10.983458  2.2091255 -11.9552628         NA          NA           NA\n6 -8.704902  2.1266480  19.7270451         NA          NA           NA\n  o21cnr    s\n1 0.7102475 1\n2 0.2628708 1\n3 0.6382094 1\n4 0.4078223 1\n5        NA 0\n6        NA 0",
            "text/latex": "A data.frame: 6 x 18\n\\begin{tabular}{r|llllllllllllllllll}\n id & o11 & o12 & a1 & r & o21 & o22 & a2 & y & o11c & o12c & o21c & o22c & o12cnr & o11cnr & o22cnr & o21cnr & s\\\\\n <int> & <dbl> & <dbl> & <int> & <int> & <dbl> & <dbl> & <int> & <dbl> & <dbl> & <dbl> & <dbl> & <dbl> & <dbl> & <dbl> & <dbl> & <dbl> & <dbl>\\\\\n\\hline\n\t 1 &  7.154994 & 25.733054 &  1 & 0 & 4.709035 & 56.01627 & -1 & 40.18308 & -26.3466318 &  8.719485 & -0.8759501 &   7.6479446 &   7.714571 & -27.7192669 &   7.84296836 & 0.7102475 & 1\\\\\n\t 2 & 29.735709 & 13.126062 &  1 & 0 & 4.261658 & 22.10117 &  1 & 49.41872 &  -3.7659167 & -3.887507 & -1.3233268 & -26.2671614 &  -4.892421 &  -5.1385519 & -26.07213770 & 0.2628708 & 1\\\\\n\t 3 & 34.225682 & 40.074278 &  1 & 0 & 4.636997 & 62.93428 &  1 & 60.80869 &   0.7240556 & 23.060708 & -0.9479882 &  14.5659540 &  22.055794 &  -0.6485796 &  14.76097768 & 0.6382094 & 1\\\\\n\t 4 & 30.713199 &  7.393897 &  1 & 0 & 4.406610 & 48.14041 & -1 & 56.58124 &  -2.7884268 & -9.619673 & -1.1783753 &  -0.2279138 & -10.624586 &  -4.1610619 &  -0.03289008 & 0.4078223 & 1\\\\\n\t 5 & 17.030857 & 27.997028 & -1 & 1 & 7.794111 & 36.41306 & NA & 63.59968 & -16.4707692 & 10.983458 &  2.2091255 & -11.9552628 &         NA &          NA &           NA &        NA & 0\\\\\n\t 6 &  7.725391 &  8.308667 & -1 & 1 & 7.711633 & 68.09537 & NA & 71.46104 & -25.7762347 & -8.704902 &  2.1266480 &  19.7270451 &         NA &          NA &           NA &        NA & 0\\\\\n\\end{tabular}\n",
            "text/markdown": "\nA data.frame: 6 x 18\n\n| id &lt;int&gt; | o11 &lt;dbl&gt; | o12 &lt;dbl&gt; | a1 &lt;int&gt; | r &lt;int&gt; | o21 &lt;dbl&gt; | o22 &lt;dbl&gt; | a2 &lt;int&gt; | y &lt;dbl&gt; | o11c &lt;dbl&gt; | o12c &lt;dbl&gt; | o21c &lt;dbl&gt; | o22c &lt;dbl&gt; | o12cnr &lt;dbl&gt; | o11cnr &lt;dbl&gt; | o22cnr &lt;dbl&gt; | o21cnr &lt;dbl&gt; | s &lt;dbl&gt; |\n|---|---|---|---|---|---|---|---|---|---|---|---|---|---|---|---|---|---|\n| 1 |  7.154994 | 25.733054 |  1 | 0 | 4.709035 | 56.01627 | -1 | 40.18308 | -26.3466318 |  8.719485 | -0.8759501 |   7.6479446 |   7.714571 | -27.7192669 |   7.84296836 | 0.7102475 | 1 |\n| 2 | 29.735709 | 13.126062 |  1 | 0 | 4.261658 | 22.10117 |  1 | 49.41872 |  -3.7659167 | -3.887507 | -1.3233268 | -26.2671614 |  -4.892421 |  -5.1385519 | -26.07213770 | 0.2628708 | 1 |\n| 3 | 34.225682 | 40.074278 |  1 | 0 | 4.636997 | 62.93428 |  1 | 60.80869 |   0.7240556 | 23.060708 | -0.9479882 |  14.5659540 |  22.055794 |  -0.6485796 |  14.76097768 | 0.6382094 | 1 |\n| 4 | 30.713199 |  7.393897 |  1 | 0 | 4.406610 | 48.14041 | -1 | 56.58124 |  -2.7884268 | -9.619673 | -1.1783753 |  -0.2279138 | -10.624586 |  -4.1610619 |  -0.03289008 | 0.4078223 | 1 |\n| 5 | 17.030857 | 27.997028 | -1 | 1 | 7.794111 | 36.41306 | NA | 63.59968 | -16.4707692 | 10.983458 |  2.2091255 | -11.9552628 |         NA |          NA |           NA |        NA | 0 |\n| 6 |  7.725391 |  8.308667 | -1 | 1 | 7.711633 | 68.09537 | NA | 71.46104 | -25.7762347 | -8.704902 |  2.1266480 |  19.7270451 |         NA |          NA |           NA |        NA | 0 |\n\n",
            "text/html": "<table>\n<caption>A data.frame: 6 x 18</caption>\n<thead>\n\t<tr><th scope=col>id</th><th scope=col>o11</th><th scope=col>o12</th><th scope=col>a1</th><th scope=col>r</th><th scope=col>o21</th><th scope=col>o22</th><th scope=col>a2</th><th scope=col>y</th><th scope=col>o11c</th><th scope=col>o12c</th><th scope=col>o21c</th><th scope=col>o22c</th><th scope=col>o12cnr</th><th scope=col>o11cnr</th><th scope=col>o22cnr</th><th scope=col>o21cnr</th><th scope=col>s</th></tr>\n\t<tr><th scope=col>&lt;int&gt;</th><th scope=col>&lt;dbl&gt;</th><th scope=col>&lt;dbl&gt;</th><th scope=col>&lt;int&gt;</th><th scope=col>&lt;int&gt;</th><th scope=col>&lt;dbl&gt;</th><th scope=col>&lt;dbl&gt;</th><th scope=col>&lt;int&gt;</th><th scope=col>&lt;dbl&gt;</th><th scope=col>&lt;dbl&gt;</th><th scope=col>&lt;dbl&gt;</th><th scope=col>&lt;dbl&gt;</th><th scope=col>&lt;dbl&gt;</th><th scope=col>&lt;dbl&gt;</th><th scope=col>&lt;dbl&gt;</th><th scope=col>&lt;dbl&gt;</th><th scope=col>&lt;dbl&gt;</th><th scope=col>&lt;dbl&gt;</th></tr>\n</thead>\n<tbody>\n\t<tr><td>1</td><td> 7.154994</td><td>25.733054</td><td> 1</td><td>0</td><td>4.709035</td><td>56.01627</td><td>-1</td><td>40.18308</td><td>-26.3466318</td><td> 8.719485</td><td>-0.8759501</td><td>  7.6479446</td><td>  7.714571</td><td>-27.7192669</td><td>  7.84296836</td><td>0.7102475</td><td>1</td></tr>\n\t<tr><td>2</td><td>29.735709</td><td>13.126062</td><td> 1</td><td>0</td><td>4.261658</td><td>22.10117</td><td> 1</td><td>49.41872</td><td> -3.7659167</td><td>-3.887507</td><td>-1.3233268</td><td>-26.2671614</td><td> -4.892421</td><td> -5.1385519</td><td>-26.07213770</td><td>0.2628708</td><td>1</td></tr>\n\t<tr><td>3</td><td>34.225682</td><td>40.074278</td><td> 1</td><td>0</td><td>4.636997</td><td>62.93428</td><td> 1</td><td>60.80869</td><td>  0.7240556</td><td>23.060708</td><td>-0.9479882</td><td> 14.5659540</td><td> 22.055794</td><td> -0.6485796</td><td> 14.76097768</td><td>0.6382094</td><td>1</td></tr>\n\t<tr><td>4</td><td>30.713199</td><td> 7.393897</td><td> 1</td><td>0</td><td>4.406610</td><td>48.14041</td><td>-1</td><td>56.58124</td><td> -2.7884268</td><td>-9.619673</td><td>-1.1783753</td><td> -0.2279138</td><td>-10.624586</td><td> -4.1610619</td><td> -0.03289008</td><td>0.4078223</td><td>1</td></tr>\n\t<tr><td>5</td><td>17.030857</td><td>27.997028</td><td>-1</td><td>1</td><td>7.794111</td><td>36.41306</td><td>NA</td><td>63.59968</td><td>-16.4707692</td><td>10.983458</td><td> 2.2091255</td><td>-11.9552628</td><td>        NA</td><td>         NA</td><td>          NA</td><td>       NA</td><td>0</td></tr>\n\t<tr><td>6</td><td> 7.725391</td><td> 8.308667</td><td>-1</td><td>1</td><td>7.711633</td><td>68.09537</td><td>NA</td><td>71.46104</td><td>-25.7762347</td><td>-8.704902</td><td> 2.1266480</td><td> 19.7270451</td><td>        NA</td><td>         NA</td><td>          NA</td><td>       NA</td><td>0</td></tr>\n</tbody>\n</table>\n"
          },
          "metadata": {}
        }
      ]
    },
    {
      "metadata": {},
      "cell_type": "markdown",
      "source": "## Part 1: Estimate the mean outcome under an embedded AI"
    },
    {
      "metadata": {
        "trusted": true
      },
      "cell_type": "markdown",
      "source": "We'll start by creating an indicator for the (JASP+EMT, INTENSIFY) adaptive intervention. The indicator, which we'll call $Z_1$, is defined as \n$$\nZ_1 = \\left\\{ \n\\begin{array}{lr}\n    1  & \\text{Individual consistent with (JASP+EMT, INTENSIFY)} \\\\\n    -1 & \\text{otherwise}\n\\end{array}\n\\right. .\n$$\n\n### <a name=\"task-1\"></a> Task 1: Create an indicator for whether an individual is consistent with (JASP+EMT, INTENSIFY)\nBelow, we start code to create the indicator $Z_1$ described above. Fill in the blanks to finish the code."
    },
    {
      "metadata": {
        "trusted": true
      },
      "cell_type": "code",
      "source": "aut$z1 <- -1\n#responders to JASP+EMT are consistent with (JASP+EMT, INTENSIFY)\naut$z1[aut$a1 == 1 & aut$r == 1] <- 1\n# non-responders to JASP+EMT who receive INTENSIFY are consistent\naut$z1[aut$a1 == _____ & aut$r == _____ & aut$a2 == _____] <- 1\n\ntable(aut$z1)",
      "execution_count": 4,
      "outputs": [
        {
          "output_type": "error",
          "ename": "ERROR",
          "evalue": "Error in parse(text = x, srcfile = src): <text>:5:18: unexpected input\n4: # non-responders to JASP+EMT who receive INTENSIFY are consistent\n5: aut$z1[aut$a1 == _\n                    ^\n",
          "traceback": [
            "Error in parse(text = x, srcfile = src): <text>:5:18: unexpected input\n4: # non-responders to JASP+EMT who receive INTENSIFY are consistent\n5: aut$z1[aut$a1 == _\n                    ^\nTraceback:\n"
          ]
        }
      ]
    },
    {
      "metadata": {},
      "cell_type": "markdown",
      "source": "When you are done, keep your cursor in the above cell and press `SHIFT`+`ENTER`. The table should show that **72** children are consistent with (JASP+EMT, INTENSIFY) (i.e., there are 72 1's in the table)."
    },
    {
      "metadata": {},
      "cell_type": "markdown",
      "source": "### <a name=\"task-2\"></a> Task 2: Create weights\nIn order to estimate the mean outcome under (JASP+EMT, INTENSIFY), we need to construct weights which account for the imbalance (by design) in the numbers of responders and slow-responders who are consistent with this AI. \n\nRemember that the probability that a responder follows any given adaptive intervention is 1/2. The probability that a slow responder to JASP+EMT+SGD is consistent with the single AI that begins with that intervention is 1/2. Slow-responders to JASP+EMT are consistent with those AIs with probability 1/4. Therefore, we want to weight slow responders to JASP+EMT by 4, and all other children by 2. \n\nBelow, you'll create the weight variable, called `w`."
    },
    {
      "metadata": {
        "trusted": true
      },
      "cell_type": "code",
      "source": "# Start by giving everyone a weight of 2\naut$w <- 2\n\n# Give slow responders to JASP+EMT (A1 = 1) an appropriate weight\naut$w[aut$a1 == _____ & aut$r == _____] <- _____\n\ntable(aut$w)",
      "execution_count": null,
      "outputs": []
    },
    {
      "metadata": {},
      "cell_type": "markdown",
      "source": "When you've filled in the blanks above, keep your cursor in the cell and press `SHIFT`+ `ENTER` to run the code. If you've completed the task successfully, there will be **56** children with a weight of 4.\n\n### Modeling\n*You will need to have completed Task 1 to run the code below.*"
    },
    {
      "metadata": {
        "trusted": true
      },
      "cell_type": "code",
      "source": "## Run weighted regression\n\nmodel3 <- geeglm(y ~ z1, weights = w, id = id, data = aut)\n\nestimate(model3,\n         rbind(\"Mean Y under AI #1 (JASP+EMT, INTENSIFY)\" = c(1, 1)))",
      "execution_count": 20,
      "outputs": [
        {
          "output_type": "error",
          "ename": "ERROR",
          "evalue": "Error in eval(predvars, data, env): object 'z1' not found\n",
          "traceback": [
            "Error in eval(predvars, data, env): object 'z1' not found\nTraceback:\n",
            "1. geeglm(y ~ z1, weights = w, id = id, data = aut)",
            "2. eval(glmcall, parent.frame())",
            "3. eval(glmcall, parent.frame())",
            "4. glm(formula = y ~ z1, data = aut, weights = w)",
            "5. eval(mf, parent.frame())",
            "6. eval(mf, parent.frame())",
            "7. stats::model.frame(formula = y ~ z1, data = aut, weights = w, \n .     drop.unused.levels = TRUE)",
            "8. model.frame.default(formula = y ~ z1, data = aut, weights = w, \n .     drop.unused.levels = TRUE)",
            "9. eval(predvars, data, env)",
            "10. eval(predvars, data, env)"
          ]
        }
      ]
    },
    {
      "metadata": {},
      "cell_type": "markdown",
      "source": "An alternative way to estimate the mean under (JASP+EMT, INTENSIFY) is to restrict the analysis to just children with `z1 == 1`, and then just estimate a weighted mean (i.e., fit an intercept-only model)."
    },
    {
      "metadata": {
        "trusted": true
      },
      "cell_type": "code",
      "source": "model3alternative <- geeglm(y ~ 1, weights = w, id = id, data = aut,\n                            subset = z1 == 1)\n\nsummary(model3alternative)",
      "execution_count": null,
      "outputs": []
    },
    {
      "metadata": {
        "trusted": true
      },
      "cell_type": "markdown",
      "source": "## Part 2: Compare the means of two embedded adaptive interventions\nWe are now going to compare the mean outcomes had every child been consistent with (JASP+EMT+SGD, INTENSIFY) to the mean outcomes had every child been consistent with (JASP+EMT, Add SGD). The goal is to do this simultaneously (i.e., with one regression). This also facilitates making inferences about the difference in means.\n\nBelow, we use an intuitive (but less efficient) way to compare these two adaptive interventions. In the regression below, we'll use data only from participants who are consistent with one of the two AIs we're comparing.\n\n### <a name=\"task-3\"></a> Task 3: Create indicator variables for consistency with the AIs under study\nTo perform this single regression to compare mean outcomes under (JASP+EMT+SGD, INTENSIFY) and (JASP+EMT, Add SGD), we need to create indicator variables for whether or not each child was consistent with the appropriate AI.\n\n**Notice: we can identify children who were consistent with (JASP+EMT+SGD, INTENSIFY) using only their first-stage treatment!**"
    },
    {
      "metadata": {
        "trusted": true
      },
      "cell_type": "code",
      "source": "# Create indicator z2 for consistency with (JASP+EMT, Add SGD)\n## Give everyone -1 to start with (not consistent)\naut$z2 <- -1\n## Change indicator to 1 if consistent\naut$z2[aut$a1 == 1 & aut$r == 1] <- 1\naut$z2[aut$a1 == 1 & aut$r == 0 & aut$a2 == 1] <- 1\n\n# Create indicator z3 for consistency with (JASP+EMT+SGD, INTENSIFY)\n## Give everyone -1 to start with (not consistent)\naut$z3 <- -1\n## Change indicator to 1 if consistent\naut$z3[________] <- 1\n\ntable(aut$z3)",
      "execution_count": 9,
      "outputs": [
        {
          "output_type": "display_data",
          "data": {
            "text/plain": "\n -1 \n200 "
          },
          "metadata": {}
        },
        {
          "output_type": "display_data",
          "data": {
            "text/plain": "\n -1   1 \n100 100 "
          },
          "metadata": {}
        }
      ]
    },
    {
      "metadata": {},
      "cell_type": "markdown",
      "source": "When you've filled in the above blank, keep your cursor in the cell and press `SHIFT` + `ENTER` to run the code. If you've done this correctly, you will find that **100** children are consistent with (JASP+EMT+SGD, INTENSIFY) (i.e., have `z3` = 1). \n\n### Model for comparison of (JASP+EMT+SGD, INTENSIFY) and (JASP+EMT, Add SGD)\nBelow, we fit the models used to make the comparison of interest."
    },
    {
      "metadata": {
        "trusted": true
      },
      "cell_type": "code",
      "source": "model5 <- geeglm(y ~ z2, weights = w, id = id, data = aut,\n                 # Only use individuals for whom z2 OR z3 is 1\n                 subset = z2 == 1 | z3 == 1)\n\nestimate(model5,\n         rbind(\"Mean Y under AI#1 (JASP+EMT, Add SGD)\"      = c(1,  1),\n               \"Mean Y under AI#2 (JASP+EMT+SGD, INTENSFY)\" = c(1, -1),\n               \"Difference AI#1 - AI#2\"                     = c(0,  2)))\n\n## Conduct a regression analysis to compare mean outcomes under AI#1 vs AI#2\n## adjusting for baseline covariates O12c and O14c;\n\nmodel6 <- geeglm(y ~ z1 + o12c + o14c, weights = w, id = id, data = aut,\n                 # Only use individuals for whom z1 OR z2 is 1\n                 subset = z1 == 1 | z2 == 1)\nestimate(model6,\n         rbind(\"Mean Y under AI#1 (MED, AUGMENT)\"  = c(1,  1, 0, 0),\n               \"Mean Y under AI#2 (BMOD, AUGMENT)\" = c(1, -1, 0, 0),\n               \"Difference AI#1 - AI#2\"            = c(0,  2, 0, 0)))",
      "execution_count": 10,
      "outputs": [
        {
          "output_type": "error",
          "ename": "ERROR",
          "evalue": "Error in eval(extras, data, env): object 'w' not found\n",
          "traceback": [
            "Error in eval(extras, data, env): object 'w' not found\nTraceback:\n",
            "1. geeglm(y ~ z2, weights = w, id = id, data = aut, subset = z2 == \n .     1 | z3 == 1)",
            "2. eval(glmcall, parent.frame())",
            "3. eval(glmcall, parent.frame())",
            "4. glm(formula = y ~ z2, data = aut, weights = w, subset = z2 == \n .     1 | z3 == 1)",
            "5. eval(mf, parent.frame())",
            "6. eval(mf, parent.frame())",
            "7. stats::model.frame(formula = y ~ z2, data = aut, subset = z2 == \n .     1 | z3 == 1, weights = w, drop.unused.levels = TRUE)",
            "8. model.frame.default(formula = y ~ z2, data = aut, subset = z2 == \n .     1 | z3 == 1, weights = w, drop.unused.levels = TRUE)",
            "9. eval(extras, data, env)",
            "10. eval(extras, data, env)"
          ]
        }
      ]
    },
    {
      "metadata": {},
      "cell_type": "markdown",
      "source": "## Part 3: Compare all three embedded adaptive interventions with one regression\nNow we'll estimate the mean outcomes had all children been consistent with each of the three embedded adaptive interventions, using a single regression. This analysis differs from the above in that it requires both weighting *and* replication.\n\nBecause responders to JASP+EMT are consistent with more than one adaptive intervention -- (JASP+EMT, INTENSIFY) and (JASP+EMT, Add SGD) -- we need to trick R into using their data to estimate the mean outcomes for both of those AIs. Responders to (JASP+EMT+SGD, INTENSIFY) do *not* need to be replicated, as they're consistent with only one AI.\n\nWe're going to create a new data.frame called `aut.rep` for the replicated data.\n\n### <a name=\"task-4\"></a> Task 4: Replicate responders to JASP+EMT"
    },
    {
      "metadata": {
        "trusted": true
      },
      "cell_type": "code",
      "source": "# Create aut.rep, which contains one copy of the original data, giving this copy obs=1\naut.rep <- rbind(data.frame(aut, obs = 1),\n                 # Add a copy of the rows to be replicated, giving this copy obs=2\n                 # Fill in the blank with the indicator for the first-stage treatment whose responders are replicated.\n               data.frame(subset(aut, a1 == ______ & r == 1), obs = 2))\nnrow(aut.rep)",
      "execution_count": 12,
      "outputs": [
        {
          "output_type": "display_data",
          "data": {
            "text/plain": "[1] 244",
            "text/latex": "244",
            "text/markdown": "244",
            "text/html": "244"
          },
          "metadata": {}
        }
      ]
    },
    {
      "metadata": {},
      "cell_type": "markdown",
      "source": "When you're finished, press `SHIFT` + `ENTER` to run the code, as usual. The replicated data should have **244** rows.\n\nWe now need to fix the indicator for second-stage treatment `a2` such that one copy of the responders to JASP+EMT receives $A_2 = 1$ and one copy receives $A_2 = -1$. "
    },
    {
      "metadata": {
        "trusted": true
      },
      "cell_type": "code",
      "source": "# In the first blank, fill in the value of r identifying the rows we want to manipulate\n# In the second blank, fill in the value of a1 identifying the rows we want to manipulate.\naut.rep$a2[aut.rep$a1 == 1 & aut.rep$r == _____] <-\n  c(-1, 1)[with(aut.rep, obs[a1 == _____ & r == 1])]\n\n## NOTE: geeglm needs data to be sorted by cluster id \n## (here a \"cluster\" is a single person in the SMART)\naut.rep <- aut.rep[order(aut.rep$id), ]\n\n## Cross-tabulate R and A2 in the original data\nwith(aut, table(r, a2, useNA = \"ifany\"))\n\n## For comparison, cross-tabulate R and A2 in the replicated data\nwith(aut.rep, table(r, a2))",
      "execution_count": 19,
      "outputs": [
        {
          "output_type": "display_data",
          "data": {
            "text/plain": "   a2\nr    -1   1 <NA>\n  0  28  28   27\n  1   0   0  117"
          },
          "metadata": {}
        },
        {
          "output_type": "display_data",
          "data": {
            "text/plain": "   a2\nr   -1  1\n  0 28 28\n  1 44 44"
          },
          "metadata": {}
        }
      ]
    },
    {
      "metadata": {},
      "cell_type": "markdown",
      "source": "When you're done filling in the blanks, press `SHIFT`+`ENTER`. You should see two tables: the first is the cross-tabulation of R and A2 in the original (unreplicated) data; the second, in the replicated data. The second table should have **44** responders consistent with each of the second-stage interventions and no `NA`s.\n\nWe now need to create indicators to differentiate between all three embedded adaptive interventions. `a1` will help differentiate (JASP+EMT, INTENSIFY) and (JASP+EMT, Add SGD) from (JASP+EMT+SGD, INTENSIFY), but within `a1=1`, we need to be able to differentiate between (JASP+EMT, INTENSIFY) and (JASP+EMT, Add SGD)."
    },
    {
      "metadata": {
        "trusted": true
      },
      "cell_type": "code",
      "source": "# Interaction between a1 and a2 will help differentiate between these two AIs\naut.rep$a1a2 <- aut.rep$a1 * aut.rep$a2\n\n# Set the interaction variable to 0 for those rows for which it doesn't exist (i.e., A1 = -1 -- children starting on JASP+EMT+SGD)\naut.rep$a1a2[is.na(aut.rep$a1a2)] <- 0",
      "execution_count": null,
      "outputs": []
    },
    {
      "metadata": {},
      "cell_type": "markdown",
      "source": "So now we're able to distinguish between our three AIs using `a1` and `a1a2`. Now  we can model!\n\n### <a name=\"task-5\"></a> Task 5: Perform weighted and replicated regression\nBelow, fill in the blanks to perform a weighted and replicated regression using `aut.rep` which will allow us to simultaneously estimate the mean outcomes had all children been consistent with each embedded adaptive intervention."
    },
    {
      "metadata": {
        "trusted": true
      },
      "cell_type": "code",
      "source": "model7 <- geeglm(y ~ ____ + a1a2, weights = w, id = id, data = aut.rep)\n\nestimate(model7,\n         rbind(\n             # These statements get the mean under each AI\n             # Remember the coefficients are positional: the first is the intercept, the second is the variable in the blank, the third is a1a2.\n           \"Mean Y: AI#1 (JASP+EMT,INTENSFY)\" = c(1, ____,  1),\n           \"Mean Y: AI#2 (JASP+EMT, Add SGD)\" = c(1, ____, -1),\n           \"Mean Y: AI#3 (JASP+EMT+SGD, ...)\" = c(1, ____,  0),\n           \"Diff: (JASP+EMT,Add SGD) - (JASP+EMT+SGD,...)\" = c(0, ____, -1)))",
      "execution_count": 21,
      "outputs": [
        {
          "output_type": "error",
          "ename": "ERROR",
          "evalue": "Error in parse(text = x, srcfile = src): <text>:1:22: unexpected input\n1: model7 <- geeglm(y ~ _\n                         ^\n",
          "traceback": [
            "Error in parse(text = x, srcfile = src): <text>:1:22: unexpected input\n1: model7 <- geeglm(y ~ _\n                         ^\nTraceback:\n"
          ]
        }
      ]
    },
    {
      "metadata": {},
      "cell_type": "markdown",
      "source": "If you have filled in the blanks successfully, **FINISH THIS**\n\nDouble click the blank cell below to edit, and describe your conclusion regarding the difference in mean outcomes between (JASP+EMT,Add SGD) and (JASP+EMT+SGD, INTENSIFY)."
    },
    {
      "metadata": {},
      "cell_type": "markdown",
      "source": "**Double-click to edit. Replace this text with a description of your conclusion.**"
    },
    {
      "metadata": {},
      "cell_type": "markdown",
      "source": "A statistical advantage of estimating the means under all 3 embedded AIs simultaneously is that we can increase statistical efficiency (lower standard errors) in the estimation of the differences in means. We can do this by adjusting for baseline covariates that might explain variability in Y. However, we must be careful not to adjust for post-baseline/time-varying covariates or intermediate outcomes.\n\nLet's build a model which adjusts for `o11c`, the centered version of baseline covariate `o11`."
    },
    {
      "metadata": {
        "trusted": true
      },
      "cell_type": "code",
      "source": "# Fill in the blank with the other variable needed to identify all three embedded AIs\nmodel8 <- geeglm(y ~ a1 + _____ + o11c, weights = w, id = id,\n                 data = aut.rep)\n\nestimate(model8,\n         rbind(\n             # These statements get the mean under each AI\n             # Remember the coefficients are positional: the first is the intercept, the second is a1, the third is the variable in the blank, the fourth is o11c.\n             \"Mean Y: AI#1 (JASP+EMT,INTENSFY)\" = c(1, ____, -1, 0),\n             \"Mean Y: AI#2 (JASP+EMT, Add SGD)\" = c(1, ____, -1, 0),\n             \"Mean Y: AI#3 (JASP+EMT+SGD, INTENSIFY)\"  = c(1, ____,  1, 0),\n             \"Diff: (JASP+EMT,Add SGD) - (JASP+EMT+SGD, INTENSIFY)\" = c(1,  ____,  1, 0)\n         ))",
      "execution_count": null,
      "outputs": []
    },
    {
      "metadata": {},
      "cell_type": "markdown",
      "source": "Press `SHIFT`+`ENTER` to run the code. If you've filled in the blanks successfully, **FINISH THIS**.\n\nDouble click the blank cell below to edit, and describe your conclusion regarding the difference in mean outcomes between (JASP+EMT,Add SGD) and (JASP+EMT+SGD, INTENSIFY). Compare this conclusion to the one made regarding the model above."
    },
    {
      "metadata": {},
      "cell_type": "markdown",
      "source": "**Double-click to edit. Replace this text with a description of your conclusion.***"
    }
  ],
  "metadata": {
    "kernelspec": {
      "name": "r",
      "display_name": "R",
      "language": "R"
    },
    "language_info": {
      "mimetype": "text/x-r-source",
      "name": "R",
      "pygments_lexer": "r",
      "version": "3.5.3",
      "file_extension": ".r",
      "codemirror_mode": "r"
    }
  },
  "nbformat": 4,
  "nbformat_minor": 1
}