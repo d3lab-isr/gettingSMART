{
  "cells": [
    {
      "metadata": {},
      "cell_type": "markdown",
      "source": "# Exercise: Using Data from a SMART to Address Primary Aims about Embedded Adaptive Interventions\n\n\n</br>\n<font size=3>\n    This material has been developed for [Getting SMART About Adaptive Interventions in Education](https://d3lab.isr.umich.edu/training/) led by [d3lab](https://d3lab.isr.umich.edu). \n    \n    Notebooks were developed by [Nicholas J. Seewald](https://nickseewald.com). \n    SAS code originally written by Daniel Almirall, Inbal Nahum-Shani, and Susan A. Murphy.\n    The code was translated into R by Audrey Boruvka and Nicholas J. Seewald.\n</font>\n\n\n### Exercise Tasks\n- [Task 1: Create an indicator for whether an individual is consistent with (JASP+EMT, INTENSIFY)](#task-1)\n- [Task 2: Create weights](#task-2)\n- [Task 3: Fit a regression model to estimate the main effect of second-stage treatment among slow-responders to JASP + EMT](#task-3)\n- [Task 4: Compute sample size for a comparison of first-stage main effects](#task-4)\n\n<hr>"
    },
    {
      "metadata": {},
      "cell_type": "markdown",
      "source": "In the series of practicum exercises, we'll be using *simulated* data in the context of the so-called autism SMART:\n<img src=\"assets/autism-smart-diagram.jpg\" alt=\"Autism SMART diagram\" style=\"width: 500px;\"/>\n\n**First-Stage Coding**:\n- JASP+EMT: A1 = 1\n- JASP+EMT+SGD: A1 = -1\n\n**Second-Stage Coding**:\n- ADD SGD: A2 = 1 \n- INTENSIFY: A2 = -1\n\n\n## Function Definitions\nThe file `functions.R` contains code that will help us produce cleaner output from some of the models we'll fit in this module. Advanced R users are encouraged to look at this file to see how these functions work; otherwise, just know that this code will help us mimic SAS's estimate statements which are used in the training slides. <a href=\"ADHD_Data_Description_Handout.pdf\"> THIS LINK DOES NOT WORK </a>"
    },
    {
      "metadata": {
        "trusted": true
      },
      "cell_type": "code",
      "source": "library(geepack)\nsource('functions.R')",
      "execution_count": 1,
      "outputs": [
        {
          "output_type": "stream",
          "text": "function 'estimate' loaded successfully.\n",
          "name": "stdout"
        }
      ]
    },
    {
      "metadata": {},
      "cell_type": "markdown",
      "source": "As in the [Main Effects Practicum](01_MainEffects_Practicum.ipynb), we need to do some data management before we can get started. See that notebook for more details; here, just run the cell below to perform all necessary operations."
    },
    {
      "metadata": {
        "trusted": true
      },
      "cell_type": "code",
      "source": "aut <- read.csv(\"assets/autism-simulated-dataset.csv\")\nnames(aut) <- tolower(names(aut))\naut <- aut[order(aut$id), ]\n\naut$o11c <- with(aut, o11 - mean(o11))\naut$o12c <- with(aut, o12 - mean(o12))\naut$o21c <- with(aut, o21 - mean(o21))\naut$o22c <- with(aut, o22 - mean(o22))\naut$o11cnr <- aut$o12cnr <- NA\naut$o21cnr <- aut$o22cnr <- NA\naut$o11cnr[aut$r == 0] <- with(subset(aut, r == 0), o11 - mean(o11))\naut$o12cnr[aut$r == 0] <- with(subset(aut, r == 0), o12 - mean(o12))\naut$o21cnr[aut$r == 0] <- with(subset(aut, r == 0), o21 - mean(o21))\naut$o22cnr[aut$r == 0] <- with(subset(aut, r == 0), o22 - mean(o22))\n\naut$s <- ifelse(aut$a1 == 1 & aut$r == 0, 1, 0)\n\naut <- aut[order(aut$id), ]",
      "execution_count": 1,
      "outputs": []
    },
    {
      "metadata": {},
      "cell_type": "markdown",
      "source": "## Part 1: Estimate the mean outcome under an embedded AI"
    },
    {
      "metadata": {
        "trusted": true
      },
      "cell_type": "markdown",
      "source": "We'll start by creating an indicator for the (JASP+EMT, INTENSIFY) adaptive intervention. The indicator, which we'll call $Z_1$, is defined as \n$$\nZ_1 = \\left\\{ \n\\begin{array}{lr}\n    1  & \\text{Individual consistent with (JASP+EMT, INTENSIFY)} \\\\\n    -1 & \\text{otherwise}\n\\end{array}\n\\right. .\n$$\n\n### <a name=\"task-1\"></a> Task 1: Create an indicator for whether an individual is consistent with (JASP+EMT, INTENSIFY)\nBelow, we start code to create the indicator $Z_1$ described above. Fill in the blanks to finish the code."
    },
    {
      "metadata": {
        "trusted": true
      },
      "cell_type": "code",
      "source": "aut$z1 <- -1\n#responders to JASP+EMT are consistent with (JASP+EMT, INTENSIFY)\naut$z1[aut$a1 == 1 & aut$r == 1] <- 1\n# non-responders to JASP+EMT who receive INTENSIFY are consistent\naut$z1[aut$a1 == _____ & aut$r == _____ & aut$a2 == _____] <- 1\n\ntable(aut$z1)",
      "execution_count": 3,
      "outputs": [
        {
          "output_type": "display_data",
          "data": {
            "text/plain": "\n -1   1 \n128  72 "
          },
          "metadata": {}
        }
      ]
    },
    {
      "metadata": {},
      "cell_type": "markdown",
      "source": "When you are done, keep your cursor in the above cell and press `SHIFT`+`ENTER`. The table should show that **72** children are consistent with (JASP+EMT, INTENSIFY) (i.e., there are 72 1's in the table)."
    },
    {
      "metadata": {},
      "cell_type": "markdown",
      "source": "### <a name=\"task-2\"></a> Task 2: Create weights\nIn order to estimate the mean outcome under (JASP+EMT, INTENSIFY), we need to construct weights which account for the imbalance (by design) in the numbers of responders and slow-responders who are consistent with this AI. \n\nRemember that the probability that a responder follows any given adaptive intervention is 1/2. The probability that a slow responder to JASP+EMT+SGD is consistent with the single AI that begins with that intervention is 1/2. Slow-responders to JASP+EMT are consistent with those AIs with probability 1/4. Therefore, we want to weight slow responders to JASP+EMT by 4, and all other children by 2. \n\nBelow, you'll create the weight variable, called `w`."
    },
    {
      "metadata": {
        "trusted": true
      },
      "cell_type": "code",
      "source": "# Start by giving everyone a weight of 2\naut$w <- 2\n\n# Give slow responders to JASP+EMT (A1 = 1) an appropriate weight\naut$w[aut$a1 == _____ & aut$r == _____] <- _____\n\ntable(aut$w)",
      "execution_count": 6,
      "outputs": [
        {
          "output_type": "error",
          "ename": "ERROR",
          "evalue": "Error in parse(text = x, srcfile = src): <text>:5:17: unexpected input\n4: # Give slow responders to JASP+EMT (A1 = 1) an appropriate weight\n5: aut$w[aut$a1 == _\n                   ^\n",
          "traceback": [
            "Error in parse(text = x, srcfile = src): <text>:5:17: unexpected input\n4: # Give slow responders to JASP+EMT (A1 = 1) an appropriate weight\n5: aut$w[aut$a1 == _\n                   ^\nTraceback:\n"
          ]
        }
      ]
    },
    {
      "metadata": {},
      "cell_type": "markdown",
      "source": "When you've filled in the blanks above, keep your cursor in the cell and press `SHIFT`+ `ENTER` to run the code. If you've completed the task successfully, there will be **56** children with a weight of 4.\n\n### Modeling\n*You will need to have completed Task 1 to run the code below.*"
    },
    {
      "metadata": {
        "trusted": true
      },
      "cell_type": "code",
      "source": "## Run weighted regression\n\nmodel3 <- geeglm(y ~ z1, weights = w, id = id, data = aut)\n\nestimate(model3,\n         rbind(\"Mean Y under AI #1 (JASP+EMT, INTENSIFY)\" = c(1, 1)))",
      "execution_count": 7,
      "outputs": [
        {
          "output_type": "error",
          "ename": "ERROR",
          "evalue": "Error in geeglm(y ~ z1, weights = w, id = id, data = aut): could not find function \"geeglm\"\n",
          "traceback": [
            "Error in geeglm(y ~ z1, weights = w, id = id, data = aut): could not find function \"geeglm\"\nTraceback:\n"
          ]
        }
      ]
    },
    {
      "metadata": {},
      "cell_type": "markdown",
      "source": "An alternative way to estimate the mean under (JASP+EMT, INTENSIFY) is to restrict the analysis to just children with `z1 == 1`, and then just estimate a weighted mean (i.e., fit an intercept-only model)."
    },
    {
      "metadata": {
        "trusted": true
      },
      "cell_type": "code",
      "source": "model3alternative <- geeglm(y ~ 1, weights = w, id = id, data = aut,\n                            subset = z1 == 1)\n\nsummary(model3alternative)",
      "execution_count": 8,
      "outputs": [
        {
          "output_type": "error",
          "ename": "ERROR",
          "evalue": "Error in geeglm(y ~ 1, weights = w, id = id, data = aut, subset = z1 == : could not find function \"geeglm\"\n",
          "traceback": [
            "Error in geeglm(y ~ 1, weights = w, id = id, data = aut, subset = z1 == : could not find function \"geeglm\"\nTraceback:\n"
          ]
        }
      ]
    },
    {
      "metadata": {
        "trusted": true
      },
      "cell_type": "markdown",
      "source": "## Part 2: Compare the means of two embedded adaptive interventions\nWe are now going to compare the mean outcomes had every child been consistent with (JASP+EMT+SGD, INTENSIFY) to the mean outcomes had every child been consistent with (JASP+EMT, Add SGD). The goal is to do this simultaneously (i.e., with one regression). This also facilitates making inferences about the difference in means.\n\nBelow, we use an intuitive (but less efficient) way to compare these two adaptive interventions. In the regression below, we'll use data only from participants who are consistent with one of the two AIs we're comparing.\n\n### <a name=\"task-3\"></a> Task 3: Create indicator variables for consistency with the AIs under study\nTo perform this single regression to compare mean outcomes under (JASP+EMT+SGD, INTENSIFY) and (JASP+EMT, Add SGD), we need to create indicator variables for whether or not each child was consistent with the appropriate AI.\n\n**Notice: we can identify children who were consistent with (JASP+EMT+SGD, INTENSIFY) using only their first-stage treatment!**"
    },
    {
      "metadata": {
        "trusted": true
      },
      "cell_type": "code",
      "source": "# Create indicator z2 for consistency with (JASP+EMT, Add SGD)\n## Give everyone -1 to start with (not consistent)\naut$z2 <- -1\n## Change indicator to 1 if consistent\naut$z2[aut$a1 == 1 & r == 1] <- 1\naut$z2[aut$a1 == 1 & r == 0 & a2 == 1] <- 1\n\n# Create indicator z3 for consistency with (JASP+EMT+SGD, INTENSIFY)\n## Give everyone -1 to start with (not consistent)\naut$z3 <- -1\n## Change indicator to 1 if consistent\n# aut$z3[________] <- 1\n\ntable(aut$z3)\ntable(aut$a1)",
      "execution_count": null,
      "outputs": []
    },
    {
      "metadata": {},
      "cell_type": "markdown",
      "source": "When you've filled in the above blank, keep your cursor in the cell and press `SHIFT` + `ENTER` to run the code. If you've done this correctly, you"
    }
  ],
  "metadata": {
    "kernelspec": {
      "name": "r",
      "display_name": "R",
      "language": "R"
    },
    "language_info": {
      "mimetype": "text/x-r-source",
      "name": "R",
      "pygments_lexer": "r",
      "version": "3.5.3",
      "file_extension": ".r",
      "codemirror_mode": "r"
    }
  },
  "nbformat": 4,
  "nbformat_minor": 1
}