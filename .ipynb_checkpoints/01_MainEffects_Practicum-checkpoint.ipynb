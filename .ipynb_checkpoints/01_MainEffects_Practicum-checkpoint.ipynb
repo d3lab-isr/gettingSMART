{
  "cells": [
    {
      "metadata": {
        "collapsed": true
      },
      "cell_type": "markdown",
      "source": "# Module 3: Exercise\nThis is a placeholder text.\n\n### Contents\n- [Task 1: Properly center covariates](#task-1)\n- [Task 2: Estimate mean outcomes under each first-stage intervention option, as well as their mean difference](#task-2)\n- [Task 3: Fit a regression model to estimate the main effect of second-stage treatment among slow-responders to JASP + EMT](#task-3)"
    },
    {
      "metadata": {
        "trusted": true
      },
      "cell_type": "code",
      "source": "library(geepack)",
      "execution_count": 3,
      "outputs": []
    },
    {
      "metadata": {},
      "cell_type": "markdown",
      "source": "## Function Definitions\nThe file `functions.R` contains code that will help us produce cleaner output from some of the models we'll fit in this module. Advanced R users are encouraged to look at this file to see how these functions work; otherwise, just know that this code will help us mimic SAS's estimate statements which are used in the training slides. <a href=\"ADHD_Data_Description_Handout.pdf\"> hello </a>"
    },
    {
      "metadata": {
        "trusted": true
      },
      "cell_type": "code",
      "source": "source('functions.R')",
      "execution_count": 4,
      "outputs": [
        {
          "output_type": "stream",
          "text": "function 'estimate' loaded successfully.\n",
          "name": "stdout"
        }
      ]
    },
    {
      "metadata": {
        "trusted": true
      },
      "cell_type": "markdown",
      "source": "## Part 1: Getting comfortable with the data\nIn the series of practicum exercises, we'll be using *simulated* data in the context of the so-called autism SMART:\n![Caption]()"
    },
    {
      "metadata": {
        "trusted": true
      },
      "cell_type": "code",
      "source": "# Load data file into R\naut <- read.csv(\"autism-simulated-dataset.csv\")\n\n# R is case-sensitive! Avoid issues by changing variable names to all lowercase\nnames(aut) <- tolower(names(aut))\n\nhead(aut)",
      "execution_count": 5,
      "outputs": [
        {
          "output_type": "display_data",
          "data": {
            "text/plain": "  id o11       o12       a1 r o21      o22      a2 y       \n1 1   7.154994 25.733054  1 0 4.709035 56.01627 -1 40.18308\n2 2  29.735709 13.126062  1 0 4.261658 22.10117  1 49.41872\n3 3  34.225682 40.074278  1 0 4.636997 62.93428  1 60.80869\n4 4  30.713199  7.393897  1 0 4.406610 48.14041 -1 56.58124\n5 5  17.030857 27.997028 -1 1 7.794111 36.41306 NA 63.59968\n6 6   7.725391  8.308667 -1 1 7.711633 68.09537 NA 71.46104",
            "text/latex": "A data.frame: 6 x 9\n\\begin{tabular}{r|lllllllll}\n id & o11 & o12 & a1 & r & o21 & o22 & a2 & y\\\\\n <int> & <dbl> & <dbl> & <int> & <int> & <dbl> & <dbl> & <int> & <dbl>\\\\\n\\hline\n\t 1 &  7.154994 & 25.733054 &  1 & 0 & 4.709035 & 56.01627 & -1 & 40.18308\\\\\n\t 2 & 29.735709 & 13.126062 &  1 & 0 & 4.261658 & 22.10117 &  1 & 49.41872\\\\\n\t 3 & 34.225682 & 40.074278 &  1 & 0 & 4.636997 & 62.93428 &  1 & 60.80869\\\\\n\t 4 & 30.713199 &  7.393897 &  1 & 0 & 4.406610 & 48.14041 & -1 & 56.58124\\\\\n\t 5 & 17.030857 & 27.997028 & -1 & 1 & 7.794111 & 36.41306 & NA & 63.59968\\\\\n\t 6 &  7.725391 &  8.308667 & -1 & 1 & 7.711633 & 68.09537 & NA & 71.46104\\\\\n\\end{tabular}\n",
            "text/markdown": "\nA data.frame: 6 x 9\n\n| id &lt;int&gt; | o11 &lt;dbl&gt; | o12 &lt;dbl&gt; | a1 &lt;int&gt; | r &lt;int&gt; | o21 &lt;dbl&gt; | o22 &lt;dbl&gt; | a2 &lt;int&gt; | y &lt;dbl&gt; |\n|---|---|---|---|---|---|---|---|---|\n| 1 |  7.154994 | 25.733054 |  1 | 0 | 4.709035 | 56.01627 | -1 | 40.18308 |\n| 2 | 29.735709 | 13.126062 |  1 | 0 | 4.261658 | 22.10117 |  1 | 49.41872 |\n| 3 | 34.225682 | 40.074278 |  1 | 0 | 4.636997 | 62.93428 |  1 | 60.80869 |\n| 4 | 30.713199 |  7.393897 |  1 | 0 | 4.406610 | 48.14041 | -1 | 56.58124 |\n| 5 | 17.030857 | 27.997028 | -1 | 1 | 7.794111 | 36.41306 | NA | 63.59968 |\n| 6 |  7.725391 |  8.308667 | -1 | 1 | 7.711633 | 68.09537 | NA | 71.46104 |\n\n",
            "text/html": "<table>\n<caption>A data.frame: 6 x 9</caption>\n<thead>\n\t<tr><th scope=col>id</th><th scope=col>o11</th><th scope=col>o12</th><th scope=col>a1</th><th scope=col>r</th><th scope=col>o21</th><th scope=col>o22</th><th scope=col>a2</th><th scope=col>y</th></tr>\n\t<tr><th scope=col>&lt;int&gt;</th><th scope=col>&lt;dbl&gt;</th><th scope=col>&lt;dbl&gt;</th><th scope=col>&lt;int&gt;</th><th scope=col>&lt;int&gt;</th><th scope=col>&lt;dbl&gt;</th><th scope=col>&lt;dbl&gt;</th><th scope=col>&lt;int&gt;</th><th scope=col>&lt;dbl&gt;</th></tr>\n</thead>\n<tbody>\n\t<tr><td>1</td><td> 7.154994</td><td>25.733054</td><td> 1</td><td>0</td><td>4.709035</td><td>56.01627</td><td>-1</td><td>40.18308</td></tr>\n\t<tr><td>2</td><td>29.735709</td><td>13.126062</td><td> 1</td><td>0</td><td>4.261658</td><td>22.10117</td><td> 1</td><td>49.41872</td></tr>\n\t<tr><td>3</td><td>34.225682</td><td>40.074278</td><td> 1</td><td>0</td><td>4.636997</td><td>62.93428</td><td> 1</td><td>60.80869</td></tr>\n\t<tr><td>4</td><td>30.713199</td><td> 7.393897</td><td> 1</td><td>0</td><td>4.406610</td><td>48.14041</td><td>-1</td><td>56.58124</td></tr>\n\t<tr><td>5</td><td>17.030857</td><td>27.997028</td><td>-1</td><td>1</td><td>7.794111</td><td>36.41306</td><td>NA</td><td>63.59968</td></tr>\n\t<tr><td>6</td><td> 7.725391</td><td> 8.308667</td><td>-1</td><td>1</td><td>7.711633</td><td>68.09537</td><td>NA</td><td>71.46104</td></tr>\n</tbody>\n</table>\n"
          },
          "metadata": {}
        }
      ]
    },
    {
      "metadata": {},
      "cell_type": "markdown",
      "source": "We need to sort the data by ID number, and create an indicator for whether or not each child was re-randomized."
    },
    {
      "metadata": {
        "trusted": true
      },
      "cell_type": "code",
      "source": "# Sort data by ID\naut <- aut[order(aut$id), ]",
      "execution_count": 22,
      "outputs": []
    },
    {
      "metadata": {},
      "cell_type": "markdown",
      "source": "As we did with the ADHD data, it will be useful to look at some summaries of the data. We'll start with the usual 5-number summaries as well as the standard deviations of each of the variables."
    },
    {
      "metadata": {
        "trusted": true
      },
      "cell_type": "code",
      "source": "## Brief summary statistics\nsummary(aut)\napply(aut, 2, sd, na.rm = T)",
      "execution_count": 5,
      "outputs": [
        {
          "output_type": "display_data",
          "data": {
            "text/plain": "       id              o11              o12               a1    \n Min.   :  1.00   Min.   : 3.073   Min.   : 1.028   Min.   :-1  \n 1st Qu.: 50.75   1st Qu.:26.001   1st Qu.: 8.997   1st Qu.:-1  \n Median :100.50   Median :30.713   Median :17.382   Median : 0  \n Mean   :100.50   Mean   :33.502   Mean   :17.014   Mean   : 0  \n 3rd Qu.:150.25   3rd Qu.:41.689   3rd Qu.:22.990   3rd Qu.: 1  \n Max.   :200.00   Max.   :79.720   Max.   :43.160   Max.   : 1  \n                                                                \n       r              o21              o22               a2     \n Min.   :0.000   Min.   : 1.868   Min.   : 5.527   Min.   :-1   \n 1st Qu.:0.000   1st Qu.: 4.418   1st Qu.:36.293   1st Qu.:-1   \n Median :1.000   Median : 5.456   Median :48.785   Median : 0   \n Mean   :0.585   Mean   : 5.585   Mean   :48.368   Mean   : 0   \n 3rd Qu.:1.000   3rd Qu.: 6.791   3rd Qu.:61.033   3rd Qu.: 1   \n Max.   :1.000   Max.   :10.752   Max.   :91.837   Max.   : 1   \n                                                   NA's   :144  \n       y                s       \n Min.   : 22.70   Min.   :0.00  \n 1st Qu.: 48.86   1st Qu.:0.00  \n Median : 58.86   Median :0.00  \n Mean   : 59.42   Mean   :0.28  \n 3rd Qu.: 69.73   3rd Qu.:1.00  \n Max.   :103.90   Max.   :1.00  \n                                "
          },
          "metadata": {}
        },
        {
          "output_type": "display_data",
          "data": {
            "text/plain": "        id        o11        o12         a1          r        o21        o22 \n57.8791845 16.4993528  9.2239922  1.0025094  0.4939585  1.8055243 17.6007704 \n        a2          y          s \n 1.0090500 15.4832448  0.4501256 ",
            "text/latex": "\\begin{description*}\n\\item[id] 57.8791845139511\n\\item[o11] 16.4993527608826\n\\item[o12] 9.22399224041664\n\\item[a1] 1.00250941423417\n\\item[r] 0.493958474848212\n\\item[o21] 1.80552432597256\n\\item[o22] 17.6007703575753\n\\item[a2] 1.00904995821903\n\\item[y] 15.48324482905\n\\item[s] 0.450125610609564\n\\end{description*}\n",
            "text/markdown": "id\n:   57.8791845139511o11\n:   16.4993527608826o12\n:   9.22399224041664a1\n:   1.00250941423417r\n:   0.493958474848212o21\n:   1.80552432597256o22\n:   17.6007703575753a2\n:   1.00904995821903y\n:   15.48324482905s\n:   0.450125610609564\n\n",
            "text/html": "<dl class=dl-horizontal>\n\t<dt>id</dt>\n\t\t<dd>57.8791845139511</dd>\n\t<dt>o11</dt>\n\t\t<dd>16.4993527608826</dd>\n\t<dt>o12</dt>\n\t\t<dd>9.22399224041664</dd>\n\t<dt>a1</dt>\n\t\t<dd>1.00250941423417</dd>\n\t<dt>r</dt>\n\t\t<dd>0.493958474848212</dd>\n\t<dt>o21</dt>\n\t\t<dd>1.80552432597256</dd>\n\t<dt>o22</dt>\n\t\t<dd>17.6007703575753</dd>\n\t<dt>a2</dt>\n\t\t<dd>1.00904995821903</dd>\n\t<dt>y</dt>\n\t\t<dd>15.48324482905</dd>\n\t<dt>s</dt>\n\t\t<dd>0.450125610609564</dd>\n</dl>\n"
          },
          "metadata": {}
        }
      ]
    },
    {
      "metadata": {},
      "cell_type": "markdown",
      "source": "We'll also look at some frequency tables for first-stage treatment assignment `a1`, response status `r`, and second-stage treatment assignment `a2` cross-tabulated with `r`. Note that `a2` is not defined (`NA`) for children who were assigned to receive the SGD in the first stage (such that `a1` = -1)."
    },
    {
      "metadata": {
        "trusted": true
      },
      "cell_type": "code",
      "source": "## Frequency table of the initial treatment,\n## early response by week 8, and second stage treatments\ntable(aut$a1)\ntable(aut$r)\nwith(aut, table(a2, r, useNA = \"ifany\")) # cross-tabulate a2 and r",
      "execution_count": 6,
      "outputs": [
        {
          "output_type": "display_data",
          "data": {
            "text/plain": "\n -1   1 \n100 100 "
          },
          "metadata": {}
        },
        {
          "output_type": "display_data",
          "data": {
            "text/plain": "\n  0   1 \n 83 117 "
          },
          "metadata": {}
        },
        {
          "output_type": "display_data",
          "data": {
            "text/plain": "      r\na2       0   1\n  -1    28   0\n  1     28   0\n  <NA>  27 117"
          },
          "metadata": {}
        }
      ]
    },
    {
      "metadata": {},
      "cell_type": "markdown",
      "source": "### <a name=\"task-1\"></a> Task 1: Properly center covariates.\nReplace the blanks with correct code to center the covariate `o21` among the entire sample, as well as just among non-responders. Press `SHIFT` + `ENTER` when done to run the code."
    },
    {
      "metadata": {
        "trusted": true
      },
      "cell_type": "code",
      "source": "aut$o11c <- with(aut, o11 - mean(o11))\naut$o12c <- with(aut, o12 - mean(o12))\naut$o21c <- ___________\naut$o22c <- with(aut, o22 - mean(o22))\n\n## center baseline variables using mean among non-responders\naut$o11cnr <- aut$o12cnr <- NA\naut$o21cnr <- aut$o22cnr <- NA\naut$o11cnr[aut$r == 0] <- with(subset(aut, r == 0), o11 - mean(o11))\naut$o12cnr[aut$r == 0] <- with(subset(aut, r == 0), o12 - mean(o12))\naut$o21cnr[aut$r == 0] <- _______\naut$o22cnr[aut$r == 0] <- with(subset(aut, r == 0), o22 - mean(o22))",
      "execution_count": 10,
      "outputs": [
        {
          "output_type": "error",
          "ename": "ERROR",
          "evalue": "Error in parse(text = x, srcfile = src): <text>:3:13: unexpected input\n2: aut$o12c <- with(aut, o12 - mean(o12))\n3: aut$o21c <- _\n               ^\n",
          "traceback": [
            "Error in parse(text = x, srcfile = src): <text>:3:13: unexpected input\n2: aut$o12c <- with(aut, o12 - mean(o12))\n3: aut$o21c <- _\n               ^\nTraceback:\n"
          ]
        }
      ]
    },
    {
      "metadata": {},
      "cell_type": "markdown",
      "source": "When your code runs successfully, the error message above will disappear. You can check your work by running the following block of code, again by pressing `SHIFT` + `ENTER`. Both results should be `0`."
    },
    {
      "metadata": {
        "trusted": true
      },
      "cell_type": "code",
      "source": "mean(aut$o21c)\nmean(aut$o21cnr)",
      "execution_count": 8,
      "outputs": [
        {
          "output_type": "stream",
          "text": "Warning message in mean.default(aut$o21c):\n“argument is not numeric or logical: returning NA”",
          "name": "stderr"
        },
        {
          "output_type": "display_data",
          "data": {
            "text/plain": "[1] NA",
            "text/latex": "<NA>",
            "text/markdown": "&lt;NA&gt;",
            "text/html": "&lt;NA&gt;"
          },
          "metadata": {}
        },
        {
          "output_type": "stream",
          "text": "Warning message in mean.default(aut$o21cnr):\n“argument is not numeric or logical: returning NA”",
          "name": "stderr"
        },
        {
          "output_type": "display_data",
          "data": {
            "text/plain": "[1] NA",
            "text/latex": "<NA>",
            "text/markdown": "&lt;NA&gt;",
            "text/html": "&lt;NA&gt;"
          },
          "metadata": {}
        }
      ]
    },
    {
      "metadata": {},
      "cell_type": "markdown",
      "source": "## Part 2: Main effect of first-stage options\nWe will now investigate the main effect of the first-stage intervention options, JASP + EMT (`a1 = 1`) and JASP + EMT + SGD (`a1 = -1`). We do this by fitting the regresison equation\n\n$$ E[Y\\mid A_{1}, \\mathbf{O}] = \\beta_0 + \\beta_1 A_{1} + \\beta_2 O_{11c} + \\beta_3 O_{12c}$$\n\nusing, as before, the `geeglm()` function in the `geepack` package. We will call this model `model1`. Notice that this model is marginal over the future **tighten this**"
    },
    {
      "metadata": {
        "trusted": true
      },
      "cell_type": "code",
      "source": "library(geepack)\nmodel1 <- geeglm(y ~ a1 + o11c + o12c, \n                id = id, data = aut)",
      "execution_count": null,
      "outputs": []
    },
    {
      "metadata": {},
      "cell_type": "markdown",
      "source": "### <a name=\"task-2\"></a> Task 2: Estimate mean outcomes under each first-stage intervention option, as well as their mean difference.\n\n*Note that you will not be able to complete this task until you have successfully completed [Task 1](#task-1).*\n\nUsing `model1`, we want to estimate the mean outcome $Y$ under each of the first-stage intervention options. To do this, fill in the blanks to complete the second argument to `estimate()`. Once you have filled in the blanks, press `SHIFT` + `ENTER` to run the code."
    },
    {
      "metadata": {
        "trusted": true
      },
      "cell_type": "code",
      "source": "estimate(model1,\n         rbind(\"Mean Y under JASP+EMT\"     = c(1, ____, 0, ____),\n               \"Mean Y under JASP+EMT+SGD\" = c(1, -1, ____, 0),\n               \"Between groups diff\"       = c(0, ____, 0, ____)))",
      "execution_count": 9,
      "outputs": [
        {
          "output_type": "error",
          "ename": "ERROR",
          "evalue": "Error in parse(text = x, srcfile = src): <text>:2:51: unexpected input\n1: estimate(model1,\n2:          rbind(\"Mean Y under JASP+EMT\"     = c(1, _\n                                                     ^\n",
          "traceback": [
            "Error in parse(text = x, srcfile = src): <text>:2:51: unexpected input\n1: estimate(model1,\n2:          rbind(\"Mean Y under JASP+EMT\"     = c(1, _\n                                                     ^\nTraceback:\n"
          ]
        }
      ]
    },
    {
      "metadata": {},
      "cell_type": "markdown",
      "source": "If you have successfully run the code, the estimated standard error of the between-groups difference in means should be 2.0495.\n\nDouble-click the following block of text to edit it, delete the existing contents, and describe the results of the hypothesis test $H_0: 2\\hat{\\beta}_2 = 0$ vs $H_1: 2\\hat{\\beta}_2 \\neq 0$. Is there evidence that adding the speech device in the first stage leads to better outcomes in children with autism, on average? As above, press `SHIFT` + `ENTER`when done."
    },
    {
      "metadata": {},
      "cell_type": "markdown",
      "source": "**(Double-click to edit, and describe the results of the hypothesis test)** "
    },
    {
      "metadata": {
        "trusted": true
      },
      "cell_type": "markdown",
      "source": "## Part 3: Main effect of second-stage options / tactics\nNow, we focus on investigating the main effect of the second-stage tactics among non-responders to initial treatment. In particular, we seek to answer the question *\"Is it better, on average, to intensify JASP + EMT, or to augment with AAC, among slow-responding children to JASP + EMT, adjusting for covariates?\"* **NJS: tighten this** We will address this question by fitting the following regression model:\n\n$$ E[Y \\mid A_2, \\mathbf{O_{1}}, \\mathbf{O_{2}}, S = 1] = \\beta_0 + \\beta_1 A_{2} + \\beta_2 O_{11c} + \\beta_3 O_{12c} + \\beta_4 O_{21c} + \\beta_5 O_{22c}.$$\n\nIn order to fit this regression, we need an indicator $S$ for whether or not a child was re-randomized (1 = re-randomized, 0 = otherwise). This is essentially an indicator for whether the child was a slow-responder to JASP + EMT. We need this so we can tell `geeglm()` we only want to perform the regression on this subset of observations."
    },
    {
      "metadata": {
        "trusted": true
      },
      "cell_type": "code",
      "source": "aut$s <- ifelse(aut$a1 == 1 & aut$r == 0, 1, 0)",
      "execution_count": 21,
      "outputs": []
    },
    {
      "metadata": {},
      "cell_type": "markdown",
      "source": "### <a name=\"task-3\"></a> Task 3: Fit a regression model to estimate the main effect of second-stage treatment among slow-responders to JASP + EMT\n\n*Note that you will not be able to complete this task until you have successfully completed [Task 1](#task-1).*\n\nYour task is to translate the above regression model into R code. Fill in the blanks in the code below, then press `SHIFT` + `ENTER` to run the code when you're done. The `coefs()` function will return the coefficient estimates (but not standard errors -- we need our `estimate()` function to do that) from your model. If you've fit the correct model, the coefficient associated with $A_2$ will be **-4.2471**."
    },
    {
      "metadata": {
        "trusted": true
      },
      "cell_type": "code",
      "source": "model2 <- geeglm(y ~ _____________________________________________, \n                id = id, data = aut,\n                subset = s == ______)\ncoefs(model2)",
      "execution_count": 1,
      "outputs": [
        {
          "output_type": "error",
          "ename": "ERROR",
          "evalue": "Error in parse(text = x, srcfile = src): <text>:1:22: unexpected input\n1: model2 <- geeglm(y ~ _\n                         ^\n",
          "traceback": [
            "Error in parse(text = x, srcfile = src): <text>:1:22: unexpected input\n1: model2 <- geeglm(y ~ _\n                         ^\nTraceback:\n"
          ]
        }
      ]
    },
    {
      "metadata": {},
      "cell_type": "markdown",
      "source": "## <a name=\"part-d\"></a>Part 4: Sample Size for Primary Aims involving Main Effect Comparisons"
    },
    {
      "metadata": {},
      "cell_type": "markdown",
      "source": "Recall the formula for the sample size for a SMART in which the primary aim is to compare the main effects of first-stage interventions, using an asymptotic z-test:\n$$ n \\geq \\frac{4 (z_{1-\\alpha/2} + z_{1-\\beta})^2}{\\delta^2}. $$\nWe saw in the [Module 3 Tutorial](module3tutorial.ipynb#part-d) how to use `power.t.test` to find sample sizes for these comparisons.\n\n### <a name=\"task-4\"></a> Task 4: Compute sample size for a comparison of first-stage main effects\nUse `power.t.test` to compute the sample size for a trial similar to the Autism SMART in which the primary aim is a comparison of the main effects of first-stage interventions. Power the study to detect an effect size of $\\delta = 0.4$ at 80% power, using a two-sided significance level of 5%. "
    },
    {
      "metadata": {
        "trusted": true
      },
      "cell_type": "code",
      "source": "power.t.test(_______)",
      "execution_count": null,
      "outputs": []
    },
    {
      "metadata": {},
      "cell_type": "markdown",
      "source": "The total required sample size of the trial is 200."
    }
  ],
  "metadata": {
    "kernelspec": {
      "name": "r",
      "display_name": "R",
      "language": "R"
    },
    "language_info": {
      "mimetype": "text/x-r-source",
      "name": "R",
      "pygments_lexer": "r",
      "version": "3.5.3",
      "file_extension": ".r",
      "codemirror_mode": "r"
    },
    "language": "fsharp"
  },
  "nbformat": 4,
  "nbformat_minor": 2
}