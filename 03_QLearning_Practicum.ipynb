{
  "cells": [
    {
      "metadata": {
        "collapsed": true
      },
      "cell_type": "markdown",
      "source": "# Practicum 3: Secondary Aims Using Data Arising from a SMART\n\n\n</br>\n<font size=3>\n    This material has been developed for [Getting SMART About Adaptive Interventions in Education](https://d3lab.isr.umich.edu/training/) led by [d3lab](https://d3lab.isr.umich.edu). \n    \n    Notebooks were developed by [Nicholas J. Seewald](https://nickseewald.com). \n    SAS code originally written by Daniel Almirall, Inbal Nahum-Shani, and Susan A. Murphy.\n    The code was translated into R by Audrey Boruvka and Nicholas J. Seewald.\n</font>\n\n\n### Practicum Tasks\n- [Task 1: Estimate mean outcomes under different second-stage treatments at different levels of first-stage utterances](#task-1)\n<hr>"
    },
    {
      "metadata": {},
      "cell_type": "markdown",
      "source": "Recall the Autism SMART:\n<img src=\"assets/autism-smart-diagram.jpg\" alt=\"Autism SMART diagram\" style=\"width: 500px;\"/>\n\n**First-Stage Coding**:\n- JASP+EMT: A1 = 1\n- JASP+EMT+SGD: A1 = -1\n\n**Second-Stage Coding**:\n- ADD SGD: A2 = 1 \n- INTENSIFY: A2 = -1\n\n## Setup\nAs in previous practica, we need to set up our data frame and computing environment."
    },
    {
      "metadata": {
        "trusted": true
      },
      "cell_type": "code",
      "source": "library(geepack)\nsource('functions.R')\n\naut <- read.csv(\"assets/autism-simulated-dataset.csv\")\nnames(aut) <- tolower(names(aut))\naut <- aut[order(aut$id), ]\n\naut$o11c <- with(aut, o11 - mean(o11))\naut$o12c <- with(aut, o12 - mean(o12))\naut$o21c <- with(aut, o21 - mean(o21))\naut$o22c <- with(aut, o22 - mean(o22))\naut$o11cnr <- aut$o12cnr <- NA\naut$o21cnr <- aut$o22cnr <- NA\naut$o11cnr[aut$r == 0] <- with(subset(aut, r == 0), o11 - mean(o11))\naut$o12cnr[aut$r == 0] <- with(subset(aut, r == 0), o12 - mean(o12))\naut$o21cnr[aut$r == 0] <- with(subset(aut, r == 0), o21 - mean(o21))\naut$o22cnr[aut$r == 0] <- with(subset(aut, r == 0), o22 - mean(o22))\n\naut$s <- ifelse(aut$a1 == 1 & aut$r == 0, 1, 0)\n\naut <- aut[order(aut$id), ]\nhead(aut)",
      "execution_count": null,
      "outputs": []
    },
    {
      "metadata": {},
      "cell_type": "markdown",
      "source": "## Part 1: Examine Moderators of the Second-Stage Treatment Effect\nStep 1 of Q-learning is to understand how intermediate outcomes can be used to make second-stage decisions about intensifying vs. adding SGD among slow-responders to JASP+EMT. This will help us more deeply tailor second-stage treatment for these slow responders based on the status of the child up to the point of slow response.\n\nFirst, we will fit a full model with the re-randomized children."
    },
    {
      "metadata": {
        "trusted": true
      },
      "cell_type": "code",
      "source": "fit <- geeglm(y ~ o11cnr + o12cnr + a2*o21 + a2*o22,\n              id = id, data = aut, subset = s == 1, x = TRUE) \n# x = TRUE requests R return the matrix of data used to fit the model\n\n## summary(fit) uses \"robust\" standard errors, which is different from proc \n## genmod under no clustering/weighting - so we run estimate with\n## combos = identity matrix (1's on diagonal, 0's elsewhere)\nmat <- diag(ncol(fit$x)) #mat is the appropriately-sized identity matrix \nrownames(mat) <- names(coef(fit)) #name the rows of mat for legibility\nestimate(fit, mat)",
      "execution_count": null,
      "outputs": []
    },
    {
      "metadata": {},
      "cell_type": "markdown",
      "source": "Only `o21` (level of communicative utterances made in the first stage) appears to moderate the effect of second-stage treament. Now, we'll fit a reduced model and make appropriate comparisons. The `*` operator in a model will give us both main effects as well as an interaction. Here, `a2*o21` is equivalent to `a2 + o21 + a2:o21`. "
    },
    {
      "metadata": {
        "trusted": true
      },
      "cell_type": "code",
      "source": "# Fit a reduced model and make appropriate comparisons\nrefit <-\n  geeglm(y ~ o11cnr + a2*o21,\n         id = id, data = aut, subset = s == 1, x = TRUE)",
      "execution_count": null,
      "outputs": []
    },
    {
      "metadata": {},
      "cell_type": "markdown",
      "source": "### <a name=\"task-1\"></a> Task 1: Estimate mean outcomes under different second-stage treatments at different levels of first-stage utterances\nFill in the blanks below to create contrasts which will identify the mean outcomes under each second-stage treatment at a particular level of `o21`, the level of communicative utterances in the first stage. Remember the arguments are positional based on the model: the first element of the vector is the intercept, the second is `o11cnr`, etc."
    },
    {
      "metadata": {
        "trusted": true
      },
      "cell_type": "code",
      "source": "estimate(refit,\n  rbind(\n    # The effect at a higher level of utterances\n    \"ADD,        o21=5\" = c(1, 0, ____, 5, 5),\n    \"INTENSIFY,  o21=5\" = c(1, 0, -1, 5, ____),\n    \"ADD-INTSFY, o21=5\" = c(0, 0, ____, ____, 10),\n    # The effect at a lower level of utterances\n    \"ADD,        o21=2\" = c(1, 0, 1, ____, 2),\n    \"INTENSIFY,  o21=2\" = c(1, 0, ____, 2, -2),\n    \"ADD-INTSFY, o21=2\" = c(0, 0, 2, 0, ____)))",
      "execution_count": null,
      "outputs": []
    },
    {
      "metadata": {},
      "cell_type": "markdown",
      "source": "When you're done, press `SHIFT`+`ENTER` to run the code. If you've completed the task successfully, you'll find that the difference between ADD and INTENSIFY at a high level of utterances (`o21=5`) is **8.4641**."
    },
    {
      "metadata": {},
      "cell_type": "markdown",
      "source": "## Part 2: Performing Q-Learning with `qlaci`\nWe now demonstrate how to use `qlaci()` to perform Q-learning in R. We'll first load the package, as we did in [Demo 3](03_QLearning_Demo.ipynb)."
    },
    {
      "metadata": {
        "trusted": true
      },
      "cell_type": "code",
      "source": "remotes::install_github(\"d3lab-isr/qlaci\")\nlibrary(qlaci)",
      "execution_count": null,
      "outputs": []
    },
    {
      "metadata": {},
      "cell_type": "markdown",
      "source": "Recall that we need to rework the data a bit before we use `qlaci()`. For one, it can't handle missing values, even if they're limited to responders in the variables of the stage-2 regression model. Therefore, we'll create a new `data.frame` where we set all missing values to 0."
    },
    {
      "metadata": {
        "trusted": true
      },
      "cell_type": "code",
      "source": "autq <- aut\nautq[is.na(autq)] <- 0",
      "execution_count": null,
      "outputs": []
    },
    {
      "metadata": {},
      "cell_type": "markdown",
      "source": "We also need to create a contrast matrix for our stage-1 regression. We'll do that below, at two levels of `o11`."
    },
    {
      "metadata": {
        "trusted": true
      },
      "cell_type": "code",
      "source": "c1 <-\n  rbind(\"Mean Y JASP+EMT, o11 = 10 = low\"           = c(1, 10,  10,  1),\n        \"Mean Y JASP+EMT+SGD, o11 = 10 = low\"       = c(1, 10, -10, -1),\n        \"Mean diff (no SGD - SGD), o11 = 10 = low\"  = c(0,  0,  20,  2),\n        \"Mean Y JASP+EMT, o11 = 70 = high\"          = c(1, 70,  70,  1),\n        \"Mean Y JASP+EMT+SGD, o11 = 70 = high\"      = c(1, 70, -70, -1),\n        \"Mean diff (no SGD - SGD), o11 = 70 = high\" = c(0,  0, 140,  2))",
      "execution_count": null,
      "outputs": []
    },
    {
      "metadata": {},
      "cell_type": "markdown",
      "source": "Now we're ready to go! See [Demo 3](#03_QLearning_Demo.ipynb) for details on the syntax. Recall that we set the random seed to ensure reproducible results."
    },
    {
      "metadata": {
        "trusted": true
      },
      "cell_type": "code",
      "source": "## setting the random seed ensures that the results are reproducible\nset.seed(0)\noptions(warn = -1) # ignore warnings\n\n## with attach we can be lazy and refer to variables directly; use with caution\nattach(autq)\nql <- invisible(qlaci(H10 = cbind(\"intercept\" = 1, o11),\n            H11 = cbind(\"o11:a1\" = o11, \"a1\" = 1),\n            A1 = a1, Y1 = rep(0, nrow(autq)),\n            H20 = cbind(\"intercept\" = 1, o11cnr, o21),\n            H21 = cbind(\"o21:a2\" = o21, \"a2\" = 1),\n            A2 = a2, Y2 = y, S = s, c1 = t(c1)))\ndetach(autq)\noptions(warn = 0)\nql",
      "execution_count": null,
      "outputs": []
    },
    {
      "metadata": {},
      "cell_type": "markdown",
      "source": "Using the results from `qlaci()`, we can estimate the expected outcome under our more deeply-tailored adaptive intervention."
    },
    {
      "metadata": {
        "trusted": true
      },
      "cell_type": "code",
      "source": "aut$yopt <- with(aut, cbind(1, aut$o11) %*% ql$stg1coeff[1:2] +\n  abs(cbind(o11*a1, a1) %*% ql$stg1coeff[3:4]))\n\nround(mean(aut$yopt), 3)",
      "execution_count": null,
      "outputs": []
    }
  ],
  "metadata": {
    "kernelspec": {
      "name": "r",
      "display_name": "R",
      "language": "R"
    },
    "language_info": {
      "mimetype": "text/x-r-source",
      "name": "R",
      "pygments_lexer": "r",
      "version": "3.5.3",
      "file_extension": ".r",
      "codemirror_mode": "r"
    }
  },
  "nbformat": 4,
  "nbformat_minor": 2
}